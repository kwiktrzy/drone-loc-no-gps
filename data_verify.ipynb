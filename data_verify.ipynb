{
 "cells": [
  {
   "cell_type": "markdown",
   "id": "eca2a801",
   "metadata": {},
   "source": [
    "Lets verify data split"
   ]
  },
  {
   "cell_type": "code",
   "execution_count": null,
   "id": "1a4aa0b0",
   "metadata": {},
   "outputs": [],
   "source": [
    "from vpr_model import VPRModel\n",
    "from dataloaders.MapsDataloader import MapsDataModule\n",
    "\n",
    "import pandas as pd\n",
    "import os\n",
    "from PIL import Image\n",
    "import numpy as np\n",
    "import rasterio\n",
    "from rasterio.windows import Window\n",
    "import matplotlib.pyplot as plt\n",
    "from pandas import DataFrame\n",
    "import datetime\n",
    "from matplotlib import pyplot as plt\n",
    "\n",
    "import utm\n",
    "import cv2\n",
    "from typing import List, Dict, Tuple, Optional"
   ]
  },
  {
   "cell_type": "code",
   "execution_count": 15,
   "id": "f0c13557",
   "metadata": {},
   "outputs": [],
   "source": [
    "\n",
    "visloc_satelite_shandan_output_csv = '/workspace/repos/drone-loc-no-gps/Dataframes/Shandan.csv'\n",
    "visloc_taizhou = '/home/user/PycharmProjects/mgr-repack/Dataframes/Taizhou-1.csv'\n",
    "visloc_taizhou_out = '/home/user/PycharmProjects/mgr-repack/Dataframes/Taizhou-1_out.csv'\n",
    "df = pd.read_csv(visloc_taizhou)"
   ]
  },
  {
   "cell_type": "code",
   "execution_count": 16,
   "id": "92d45f93",
   "metadata": {},
   "outputs": [],
   "source": [
    "def get_utm(row):\n",
    "    e, n, zone_num, zone_let = utm.from_latlon(row.lat, row.lon)\n",
    "    zone = f'{zone_num}{zone_let or \"\"}'\n",
    "\n",
    "    return {'e_utm': e, 'n_utm': n, 'zone_utm': zone}"
   ]
  },
  {
   "cell_type": "code",
   "execution_count": null,
   "id": "93d60265",
   "metadata": {},
   "outputs": [],
   "source": [
    "df = df.join(df.apply(get_utm, axis=1).apply(pd.Series))"
   ]
  },
  {
   "cell_type": "code",
   "execution_count": null,
   "id": "38f7ef53",
   "metadata": {},
   "outputs": [],
   "source": [
    "# APPLY IS NOT REQUIRED\n",
    "df.to_csv(visloc_taizhou_out, index=True)\n",
    "df = pd.read_csv(visloc_taizhou_out)"
   ]
  },
  {
   "cell_type": "code",
   "execution_count": null,
   "id": "2fb83709",
   "metadata": {},
   "outputs": [],
   "source": [
    "# satellite_records = df[df['friendly-name'].str.contains('satellite')]\n",
    "satellite_records = df[~df['friendly-name'].str.contains('uav')]\n",
    "uav_records = df[df['friendly-name'].str.contains('uav')]"
   ]
  },
  {
   "cell_type": "code",
   "execution_count": 23,
   "id": "d76781d0",
   "metadata": {},
   "outputs": [],
   "source": [
    "common_place_ids = set(satellite_records['place_id']).intersection(set(uav_records['place_id']))\n",
    "if not common_place_ids:\n",
    "    print(\"The same place_id for satellite and uav not found\")"
   ]
  },
  {
   "cell_type": "code",
   "execution_count": 24,
   "id": "2cdf76a9",
   "metadata": {},
   "outputs": [],
   "source": [
    "first_common_place_id = sorted(common_place_ids)[0]"
   ]
  },
  {
   "cell_type": "code",
   "execution_count": null,
   "id": "ff4e4666",
   "metadata": {},
   "outputs": [
    {
     "name": "stdout",
     "output_type": "stream",
     "text": [
      "Liczba wierszy w satellite_series: 1\n"
     ]
    }
   ],
   "source": [
    "satellite_series = satellite_records[satellite_records['place_id'] == first_common_place_id]\n",
    "uav_series = uav_records[uav_records['place_id'] == first_common_place_id]"
   ]
  },
  {
   "cell_type": "code",
   "execution_count": 60,
   "id": "1d3f11f7",
   "metadata": {},
   "outputs": [],
   "source": [
    "def get_neigbourhood(series, df: DataFrame, range: int = 100):\n",
    "    if isinstance(series, pd.DataFrame):\n",
    "        if len(series) == 0:\n",
    "            return pd.DataFrame()\n",
    "        series = series.iloc[0]\n",
    "    \n",
    "    e_center = series['e_utm']\n",
    "    n_center = series['n_utm'] \n",
    "    zone = series['zone_utm']\n",
    "    \n",
    "    neighbours = df[(\n",
    "        df['e_utm'].between(e_center-range, e_center+range) &\n",
    "        df['n_utm'].between(n_center-range, n_center+range) &\n",
    "        (df['zone_utm'] == zone)\n",
    "        )]\n",
    "    return neighbours"
   ]
  },
  {
   "cell_type": "code",
   "execution_count": 62,
   "id": "86f30e1c",
   "metadata": {},
   "outputs": [
    {
     "name": "stdout",
     "output_type": "stream",
     "text": [
      "9\n",
      "3\n"
     ]
    }
   ],
   "source": [
    "satellite_related = get_neigbourhood(satellite_series, satellite_records)\n",
    "print(len(satellite_related))\n",
    "uav_related = get_neigbourhood(uav_series, uav_records)\n",
    "print(len(uav_related))"
   ]
  },
  {
   "cell_type": "code",
   "execution_count": 66,
   "id": "7852a91a",
   "metadata": {},
   "outputs": [],
   "source": [
    "def _ensure_series(s):\n",
    "    if isinstance(s, pd.DataFrame):\n",
    "        if len(s) == 0:\n",
    "            raise ValueError(\"Empty DataFrame passed as center\")\n",
    "        return s.iloc[0]\n",
    "    return s\n",
    "\n",
    "def _infer_step_from_deltas(deltas: np.ndarray) -> Optional[float]:\n",
    "    vals = np.unique(np.round(np.abs(deltas[np.abs(deltas) > 1e-6]), 6))\n",
    "    vals = vals[vals > 0]\n",
    "    if vals.size == 0:\n",
    "        return None\n",
    "    k = min(3, vals.size)\n",
    "    return float(np.median(vals[:k]))\n",
    "\n",
    "def _map_axis(delta: float, step: Optional[float], tol_ratio: float, grid_radius: int) -> Tuple[int, float, bool]:\n",
    "   \n",
    "    if step is None:\n",
    "        return 0, abs(delta), True\n",
    "    idx = int(np.clip(np.round(delta / step), -grid_radius, grid_radius))\n",
    "    target = idx * step\n",
    "    residual = abs(delta - target)\n",
    "    tol = step * tol_ratio\n",
    "    ok = residual <= tol\n",
    "    return idx, residual, ok\n",
    "\n",
    "def build_grid_from_df(neighbours_df: pd.DataFrame,\n",
    "                       center_series: pd.Series,\n",
    "                       e_col: str = 'e_utm',\n",
    "                       n_col: str = 'n_utm',\n",
    "                       path_col: str = 'path',\n",
    "                       grid_radius: int = 1,           # 1 ⇒ 3x3, 2 ⇒ 5x5 itd.\n",
    "                       step_e: Optional[float] = None,\n",
    "                       step_n: Optional[float] = None,\n",
    "                       tol_ratio: float = 0.5,\n",
    "                       prefer_col: Optional[str] = None  # np. 'timestamp' do tie-breaku\n",
    "                       ) -> Tuple[Dict[Tuple[int, int], pd.Series], Tuple[Optional[float], Optional[float]]]:\n",
    "    \"\"\"\n",
    "    Zwraca:\n",
    "      - grid: mapę {(gi, gj) -> wiersz (Series)} z gi: N(+)/S(-), gj: W(-)/E(+)\n",
    "      - (step_e, step_n): użyte kroki w metrach\n",
    "    \"\"\"\n",
    "    center = _ensure_series(center_series)\n",
    "    e0, n0 = float(center[e_col]), float(center[n_col])\n",
    "\n",
    "    df = neighbours_df.copy()\n",
    "\n",
    "    candidates = df[[e_col, n_col]].to_numpy()\n",
    "    dE_all = candidates[:, 0] - e0\n",
    "    dN_all = candidates[:, 1] - n0\n",
    "\n",
    "    if step_e is None:\n",
    "        step_e = _infer_step_from_deltas(dE_all)\n",
    "    if step_n is None:\n",
    "        step_n = _infer_step_from_deltas(dN_all)\n",
    "\n",
    "    grid: Dict[Tuple[int, int], pd.Series] = {}\n",
    "    costs: Dict[Tuple[int, int], Tuple[float, float]] = {}  # (sum_residuals2, prefer_metric)\n",
    "\n",
    "    grid[(0, 0)] = center\n",
    "    costs[(0, 0)] = (0.0, 0.0)\n",
    "\n",
    "    for idx, row in df.iterrows():\n",
    "        dE = float(row[e_col]) - e0\n",
    "        dN = float(row[n_col]) - n0\n",
    "\n",
    "        gi, rN, okN = _map_axis(dN, step_n, tol_ratio, grid_radius)  # pion\n",
    "        gj, rE, okE = _map_axis(dE, step_e, tol_ratio, grid_radius)  # poziom\n",
    "\n",
    "        if not (okN and okE):\n",
    "            continue\n",
    "        if abs(gi) > grid_radius or abs(gj) > grid_radius:\n",
    "            continue\n",
    "\n",
    "        pos = (gi, gj)\n",
    "        cost = rN * rN + rE * rE\n",
    "        # prefer_metric: jeśli jest prefer_col, użyj do tie-breaku (np. większy timestamp wygrywa)\n",
    "        prefer_metric = float(row[prefer_col]) if prefer_col in row and prefer_col is not None else 0.0\n",
    "\n",
    "        if pos not in grid:\n",
    "            grid[pos] = row\n",
    "            costs[pos] = (cost, prefer_metric)\n",
    "        else:\n",
    "            curr_cost, curr_pref = costs[pos]\n",
    "            # Wybierz lepszego: mniejszy błąd; przy remisie bierz większy prefer_metric\n",
    "            if (cost < curr_cost - 1e-9) or (abs(cost - curr_cost) <= 1e-9 and prefer_metric > curr_pref):\n",
    "                grid[pos] = row\n",
    "                costs[pos] = (cost, prefer_metric)\n",
    "\n",
    "    return grid, (step_e, step_n)\n",
    "\n",
    "def _find_path_col(df: pd.DataFrame, fallback: Optional[str] = None) -> str:\n",
    "    if fallback and fallback in df.columns:\n",
    "        return fallback\n",
    "    candidates = ['path', 'filepath', 'image_path', 'img_path', 'file', 'uri']\n",
    "    for c in candidates:\n",
    "        if c in df.columns:\n",
    "            return c\n",
    "    raise KeyError(\"Nie znalazłem kolumny z ścieżką do obrazu. Podaj path_col explicite.\")\n",
    "\n",
    "def _load_ref_shape(center_series: pd.Series, grid: Dict[Tuple[int, int], pd.Series], path_col: str) -> Tuple[int, int]:\n",
    "    paths_to_try = []\n",
    "    if path_col in center_series and pd.notna(center_series[path_col]):\n",
    "        paths_to_try.append(center_series[path_col])\n",
    "    for _, row in grid.items():\n",
    "        if path_col in row and pd.notna(row[path_col]):\n",
    "            paths_to_try.append(row[path_col])\n",
    "\n",
    "    for p in paths_to_try:\n",
    "        img = cv2.imread(str(p), cv2.IMREAD_COLOR)\n",
    "        if img is not None:\n",
    "            h, w = img.shape[:2]\n",
    "            return h, w\n",
    "    # Fallback\n",
    "    return 512, 512\n",
    "\n",
    "def concat_grid_with_placeholders_df(grid: Dict[Tuple[int, int], pd.Series],\n",
    "                                     center_series: pd.Series,\n",
    "                                     path_col: str = 'path',\n",
    "                                     grid_radius: int = 1,\n",
    "                                     fill_color: Tuple[int, int, int] = (0, 0, 0)) -> np.ndarray:\n",
    "    center_series = _ensure_series(center_series)\n",
    "\n",
    "    any_df = pd.concat([center_series.to_frame().T] + [s.to_frame().T for s in grid.values()],\n",
    "                       ignore_index=True, sort=False)\n",
    "    \n",
    "    path_col = _find_path_col(any_df, fallback=path_col)\n",
    "\n",
    "    # Wymiary docelowe\n",
    "    ref_h, ref_w = _load_ref_shape(center_series, grid, path_col)\n",
    "    blank = np.full((ref_h, ref_w, 3), fill_color, dtype=np.uint8)\n",
    "\n",
    "    def load_resize(path: str) -> np.ndarray:\n",
    "        img = cv2.imread(str(path), cv2.IMREAD_COLOR)\n",
    "        if img is None:\n",
    "            return blank.copy()\n",
    "        if img.shape[:2] != (ref_h, ref_w):\n",
    "            img = cv2.resize(img, (ref_w, ref_h), interpolation=cv2.INTER_AREA)\n",
    "        return img\n",
    "\n",
    "    list_2d = []\n",
    "    for gi in range(grid_radius, -grid_radius - 1, -1):\n",
    "        row_imgs = []\n",
    "        for gj in range(-grid_radius, grid_radius + 1):\n",
    "            row = grid.get((gi, gj))\n",
    "            if row is None or path_col not in row or pd.isna(row[path_col]):\n",
    "                row_imgs.append(blank.copy())\n",
    "            else:\n",
    "                row_imgs.append(load_resize(row[path_col]))\n",
    "        list_2d.append(row_imgs)\n",
    "\n",
    "    rows = [cv2.hconcat(r) for r in list_2d]\n",
    "    return cv2.vconcat(rows)\n",
    "\n",
    "def make_mosaic_3x3_from_df(neighbours_df: pd.DataFrame,\n",
    "                            center_series: pd.Series,\n",
    "                            e_col: str = 'e_utm',\n",
    "                            n_col: str = 'n_utm',\n",
    "                            path_col: str = 'path',\n",
    "                            tol_ratio: float = 0.5,\n",
    "                            step_e: Optional[float] = None,\n",
    "                            step_n: Optional[float] = None,\n",
    "                            fill_color: Tuple[int, int, int] = (0, 0, 0)) -> Tuple[np.ndarray, Dict[Tuple[int, int], pd.Series], Tuple[Optional[float], Optional[float]]]:\n",
    "    grid, steps = build_grid_from_df(\n",
    "        neighbours_df, center_series,\n",
    "        e_col=e_col, n_col=n_col, path_col=path_col,\n",
    "        grid_radius=1, step_e=step_e, step_n=step_n, tol_ratio=tol_ratio\n",
    "    )\n",
    "    mosaic = concat_grid_with_placeholders_df(grid, center_series, path_col=path_col, grid_radius=1, fill_color=fill_color)\n",
    "    return mosaic, grid, steps"
   ]
  },
  {
   "cell_type": "code",
   "execution_count": null,
   "id": "6d581ce0",
   "metadata": {},
   "outputs": [
    {
     "name": "stderr",
     "output_type": "stream",
     "text": [
      "[ WARN:0@1325.572] global loadsave.cpp:275 findDecoder imread_('/workspace/repos/datasets/train_thumbnails/Taizhou-1/patch__32_34707935214744__119_82755577499145__32_34647852015797__119_82815660207454__937216e242b24f1f94e3bc71eeddd0cf.jpg'): can't open/read file: check file path/integrity\n",
      "[ WARN:0@1325.573] global loadsave.cpp:275 findDecoder imread_('/workspace/repos/datasets/train_thumbnails/Taizhou-1/patch__32_34707935214744__119_82755577499145__32_34647852015797__119_82815660207454__937216e242b24f1f94e3bc71eeddd0cf.jpg'): can't open/read file: check file path/integrity\n",
      "[ WARN:0@1325.590] global loadsave.cpp:275 findDecoder imread_('/workspace/repos/datasets/train_thumbnails/Taizhou-1/patch__32_34707935214744__119_82755577499145__32_34647852015797__119_82815660207454__937216e242b24f1f94e3bc71eeddd0cf.jpg'): can't open/read file: check file path/integrity\n"
     ]
    },
    {
     "data": {
      "image/png": "[encoded data removed]",
      "text/plain": [
       "<Figure size 640x480 with 1 Axes>"
      ]
     },
     "metadata": {},
     "output_type": "display_data"
    },
    {
     "name": "stderr",
     "output_type": "stream",
     "text": [
      "[ WARN:0@1325.936] global loadsave.cpp:275 findDecoder imread_('/workspace/repos/datasets/train_thumbnails/Taizhou-1/patch__32_34680215__119_8279235__3ef47004637241fbb5ccb608659d709c.jpg'): can't open/read file: check file path/integrity\n",
      "[ WARN:0@1325.936] global loadsave.cpp:275 findDecoder imread_('/workspace/repos/datasets/train_thumbnails/Taizhou-1/patch__32_34680215__119_8279235__3ef47004637241fbb5ccb608659d709c.jpg'): can't open/read file: check file path/integrity\n",
      "[ WARN:0@1325.936] global loadsave.cpp:275 findDecoder imread_('/workspace/repos/datasets/train_thumbnails/Taizhou-1/patch__32_34730635__119_8270984__baf158892e004d89ad56c2d084420e5b.jpg'): can't open/read file: check file path/integrity\n",
      "[ WARN:0@1325.937] global loadsave.cpp:275 findDecoder imread_('/workspace/repos/datasets/train_thumbnails/Taizhou-1/patch__32_34628649__119_8287256__c6ebf9a0da9d4232aed91c7254f34166.jpg'): can't open/read file: check file path/integrity\n",
      "[ WARN:0@1325.938] global loadsave.cpp:275 findDecoder imread_('/workspace/repos/datasets/train_thumbnails/Taizhou-1/patch__32_34730635__119_8270984__baf158892e004d89ad56c2d084420e5b.jpg'): can't open/read file: check file path/integrity\n",
      "[ WARN:0@1325.939] global loadsave.cpp:275 findDecoder imread_('/workspace/repos/datasets/train_thumbnails/Taizhou-1/patch__32_34680215__119_8279235__3ef47004637241fbb5ccb608659d709c.jpg'): can't open/read file: check file path/integrity\n",
      "[ WARN:0@1325.940] global loadsave.cpp:275 findDecoder imread_('/workspace/repos/datasets/train_thumbnails/Taizhou-1/patch__32_34628649__119_8287256__c6ebf9a0da9d4232aed91c7254f34166.jpg'): can't open/read file: check file path/integrity\n"
     ]
    },
    {
     "data": {
      "image/png": "[encoded data removed]",
      "text/plain": [
       "<Figure size 640x480 with 1 Axes>"
      ]
     },
     "metadata": {},
     "output_type": "display_data"
    }
   ],
   "source": [
    "sat_mosaic, sat_grid, (sat_step_e, sat_step_n) = make_mosaic_3x3_from_df(\n",
    "    satellite_related, satellite_series,\n",
    "    e_col='e_utm', n_col='n_utm', path_col='img_path', \n",
    "    tol_ratio=0.5,  # możesz np. 0.4-0.6\n",
    ")\n",
    "\n",
    "# cv2.imwrite('satellite_mosaic.png', sat_mosaic)\n",
    "plt.imshow(sat_mosaic)\n",
    "plt.show()\n",
    "\n",
    "uav_mosaic, uav_grid, (uav_step_e, uav_step_n) = make_mosaic_3x3_from_df(\n",
    "    uav_related, uav_series,\n",
    "    e_col='e_utm', n_col='n_utm', path_col='img_path',\n",
    "    tol_ratio=0.5,\n",
    ")\n",
    "# cv2.imwrite('uav_mosaic.png', uav_mosaic)\n",
    "plt.imshow(uav_mosaic)\n",
    "plt.show()"
   ]
  }
 ],
 "metadata": {
  "kernelspec": {
   "display_name": "envpyth12",
   "language": "python",
   "name": "python3"
  },
  "language_info": {
   "codemirror_mode": {
    "name": "ipython",
    "version": 3
   },
   "file_extension": ".py",
   "mimetype": "text/x-python",
   "name": "python",
   "nbconvert_exporter": "python",
   "pygments_lexer": "ipython3",
   "version": "3.12.11"
  }
 },
 "nbformat": 4,
 "nbformat_minor": 5
}
