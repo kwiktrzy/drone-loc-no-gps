{
 "cells": [
  {
   "cell_type": "markdown",
   "id": "eca2a801",
   "metadata": {},
   "source": [
    "Lets verify data split"
   ]
  },
  {
   "cell_type": "code",
   "execution_count": 1,
   "id": "1a4aa0b0",
   "metadata": {},
   "outputs": [],
   "source": [
    "from vpr_model import VPRModel\n",
    "from dataloaders.MapsDataloader import MapsDataModule\n",
    "\n",
    "import pandas as pd\n",
    "import os\n",
    "from PIL import Image\n",
    "import numpy as np\n",
    "import rasterio\n",
    "from rasterio.windows import Window\n",
    "import matplotlib.pyplot as plt\n",
    "from pandas import DataFrame\n",
    "import datetime\n",
    "\n",
    "import utm"
   ]
  },
  {
   "cell_type": "code",
   "execution_count": 15,
   "id": "f0c13557",
   "metadata": {},
   "outputs": [],
   "source": [
    "\n",
    "visloc_satelite_shandan_output_csv = '/workspace/repos/drone-loc-no-gps/Dataframes/Shandan.csv'\n",
    "visloc_taizhou = '/home/user/PycharmProjects/mgr-repack/Dataframes/Taizhou-1.csv'\n",
    "visloc_taizhou_out = '/home/user/PycharmProjects/mgr-repack/Dataframes/Taizhou-1_out.csv'\n",
    "df = pd.read_csv(visloc_taizhou)"
   ]
  },
  {
   "cell_type": "code",
   "execution_count": 16,
   "id": "92d45f93",
   "metadata": {},
   "outputs": [],
   "source": [
    "def get_utm(row):\n",
    "    e, n, zone_num, zone_let = utm.from_latlon(row.lat, row.lon)\n",
    "    zone = f'{zone_num}{zone_let or \"\"}'\n",
    "\n",
    "    return {'e_utm': e, 'n_utm': n, 'zone_utm': zone}"
   ]
  },
  {
   "cell_type": "code",
   "execution_count": null,
   "id": "93d60265",
   "metadata": {},
   "outputs": [],
   "source": [
    "df = df.join(df.apply(get_utm, axis=1).apply(pd.Series))"
   ]
  },
  {
   "cell_type": "code",
   "execution_count": null,
   "id": "38f7ef53",
   "metadata": {},
   "outputs": [],
   "source": [
    "# APPLY IS NOT REQUIRED\n",
    "df.to_csv(visloc_taizhou_out, index=True)\n",
    "df = pd.read_csv(visloc_taizhou_out)"
   ]
  },
  {
   "cell_type": "code",
   "execution_count": null,
   "id": "2fb83709",
   "metadata": {},
   "outputs": [],
   "source": [
    "# satellite_records = df[df['friendly-name'].str.contains('satellite')]\n",
    "satellite_records = df[~df['friendly-name'].str.contains('uav')]\n",
    "uav_records = df[df['friendly-name'].str.contains('uav')]"
   ]
  },
  {
   "cell_type": "code",
   "execution_count": 23,
   "id": "d76781d0",
   "metadata": {},
   "outputs": [],
   "source": [
    "common_place_ids = set(satellite_records['place_id']).intersection(set(uav_records['place_id']))\n",
    "if not common_place_ids:\n",
    "    print(\"The same place_id for satellite and uav not found\")"
   ]
  },
  {
   "cell_type": "code",
   "execution_count": 24,
   "id": "2cdf76a9",
   "metadata": {},
   "outputs": [],
   "source": [
    "first_common_place_id = sorted(common_place_ids)[0]"
   ]
  },
  {
   "cell_type": "code",
   "execution_count": null,
   "id": "ff4e4666",
   "metadata": {},
   "outputs": [
    {
     "name": "stdout",
     "output_type": "stream",
     "text": [
      "Liczba wierszy w satellite_series: 1\n"
     ]
    }
   ],
   "source": [
    "satellite_series = satellite_records[satellite_records['place_id'] == first_common_place_id]\n",
    "uav_series = uav_records[uav_records['place_id'] == first_common_place_id]\n",
    "\n",
    "print(f\"Liczba wierszy w satellite_series: {len(satellite_series)}\")\n",
    "if len(satellite_series) == 0:\n",
    "    print(\"Błąd: satellite_series jest pusty! Nie znaleziono place_id.\")\n",
    "elif len(satellite_series) > 1:\n",
    "    print(\"Ostrzeżenie: satellite_series ma więcej niż jeden wiersz. Użycie .item() jest ryzykowne.\")\n",
    "    print(satellite_series)"
   ]
  },
  {
   "cell_type": "code",
   "execution_count": null,
   "id": "b426e62a",
   "metadata": {},
   "outputs": [],
   "source": []
  },
  {
   "cell_type": "code",
   "execution_count": 51,
   "id": "1d3f11f7",
   "metadata": {},
   "outputs": [],
   "source": [
    "def get_neigbourhood(series, df: DataFrame, range: int = 100):\n",
    "    if isinstance(series, pd.DataFrame):\n",
    "        if len(series) == 0:\n",
    "            return pd.DataFrame()\n",
    "        series = series.iloc[0]\n",
    "    \n",
    "    e_center = series['e_utm']\n",
    "    n_center = series['n_utm'] \n",
    "    zone = series['zone_utm']\n",
    "    \n",
    "    neighbours = df[(\n",
    "        df['e_utm'].between(e_center-range, e_center+range) &\n",
    "        df['n_utm'].between(n_center-range, n_center+range) &\n",
    "        (df['zone_utm'] == zone)\n",
    "        )]\n",
    "    return neighbours"
   ]
  },
  {
   "cell_type": "code",
   "execution_count": 52,
   "id": "86f30e1c",
   "metadata": {},
   "outputs": [
    {
     "name": "stdout",
     "output_type": "stream",
     "text": [
      "12\n",
      "12\n"
     ]
    }
   ],
   "source": [
    "satellite_related = get_neigbourhood(satellite_series, df)\n",
    "print(len(satellite_related))\n",
    "uav_related = get_neigbourhood(uav_series, df)\n",
    "print(len(uav_related))"
   ]
  }
 ],
 "metadata": {
  "kernelspec": {
   "display_name": "envpyth12",
   "language": "python",
   "name": "python3"
  },
  "language_info": {
   "codemirror_mode": {
    "name": "ipython",
    "version": 3
   },
   "file_extension": ".py",
   "mimetype": "text/x-python",
   "name": "python",
   "nbconvert_exporter": "python",
   "pygments_lexer": "ipython3",
   "version": "3.12.11"
  }
 },
 "nbformat": 4,
 "nbformat_minor": 5
}
